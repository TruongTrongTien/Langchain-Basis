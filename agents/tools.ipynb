{
 "cells": [
  {
   "cell_type": "code",
   "execution_count": 22,
   "metadata": {},
   "outputs": [
    {
     "data": {
      "text/plain": [
       "True"
      ]
     },
     "execution_count": 22,
     "metadata": {},
     "output_type": "execute_result"
    }
   ],
   "source": [
    "from dotenv import load_dotenv\n",
    "load_dotenv()"
   ]
  },
  {
   "cell_type": "code",
   "execution_count": 21,
   "metadata": {},
   "outputs": [],
   "source": [
    "from langchain import hub\n",
    "from langchain.agents import AgentExecutor, create_tool_calling_agent\n",
    "from langchain.pydantic_v1 import BaseModel, Field\n",
    "from langchain_core.tools import StructuredTool, Tool, BaseTool\n",
    "from langchain.tools import tool\n",
    "from langchain_google_genai import ChatGoogleGenerativeAI\n",
    "from typing import Type"
   ]
  },
  {
   "cell_type": "code",
   "execution_count": 3,
   "metadata": {},
   "outputs": [
    {
     "name": "stdout",
     "output_type": "stream",
     "text": [
      "d:\\LEARN\\LangChain Basis\n"
     ]
    },
    {
     "name": "stderr",
     "output_type": "stream",
     "text": [
      "d:\\LEARN\\LangChain Basis\\.venv\\lib\\site-packages\\IPython\\core\\magics\\osm.py:417: UserWarning: This is now an optional IPython functionality, setting dhist requires you to install the `pickleshare` library.\n",
      "  self.shell.db['dhist'] = compress_dhist(dhist)[-100:]\n"
     ]
    }
   ],
   "source": [
    "cd .."
   ]
  },
  {
   "cell_type": "code",
   "execution_count": 24,
   "metadata": {},
   "outputs": [],
   "source": [
    "def greet_user(name: str) -> str:\n",
    "    \"\"\"Greets the user by name.\"\"\"\n",
    "    return f\"Hello, {name}!\"\n",
    "\n",
    "greet_user_tool = Tool(\n",
    "    name=\"GreetUser\",\n",
    "    func=greet_user,\n",
    "    description=\"Greets the user by name.\"\n",
    ")"
   ]
  },
  {
   "cell_type": "code",
   "execution_count": 25,
   "metadata": {},
   "outputs": [],
   "source": [
    "# Pydantic models for tool arguments\n",
    "# Define a Pydantic model to specify the input schema for tools that need more structured input.\n",
    "class ReverseStringArgs(BaseModel):\n",
    "    text: str = Field(description=\"Text to be reversed\")\n",
    "\n",
    "# Tool with One Parameter using args_schema (multiple parameters is okay too)\n",
    "# Use the args_schema parameter to specify the input schema using a Pydantic model.\n",
    "@tool(args_schema=ReverseStringArgs)\n",
    "def reverse_string(text: str) -> str:\n",
    "    \"\"\"Reverses the given string.\"\"\"\n",
    "    return text[::-1]"
   ]
  },
  {
   "cell_type": "code",
   "execution_count": 26,
   "metadata": {},
   "outputs": [],
   "source": [
    "def concatenate_strings(a: str, b: str) -> str:\n",
    "    \"\"\"Concatenates two strings.\"\"\"\n",
    "    return a + b\n",
    "\n",
    "# Pydantic model for tool arguments\n",
    "class ConcatenateStringsArgs(BaseModel):\n",
    "    a: str = Field(description=\"First string\")\n",
    "    b: str = Field(description=\"Second string\")\n",
    "\n",
    "# Use StructuredTool for more complex functions that require multiple input parameters.\n",
    "# StructuredTool allows us to define an input schema using Pydantic, ensuring proper validation and description.\n",
    "concatenate_strings_tool = StructuredTool.from_function(\n",
    "    name=\"ConcatenateStrings\",  # Name of the tool\n",
    "    func=concatenate_strings,  # Function to execute\n",
    "    description=\"Concatenates two strings.\",  # Description of the tool\n",
    "    args_schema=ConcatenateStringsArgs,  # Schema defining the tool's input arguments\n",
    ")"
   ]
  },
  {
   "cell_type": "code",
   "execution_count": 27,
   "metadata": {},
   "outputs": [],
   "source": [
    "# Pydantic models for tool arguments\n",
    "class SimpleSearchInput(BaseModel):\n",
    "    query: str = Field(description=\"should be a search query\")\n",
    "\n",
    "# Custom tool with only custom input\n",
    "class SimpleSearchTool(BaseTool):\n",
    "    name = \"simple_search\"\n",
    "    description = \"useful for when you need to answer questions about current events\"\n",
    "    args_schema: Type[BaseModel] = SimpleSearchInput\n",
    "\n",
    "    def _run(\n",
    "        self,\n",
    "        query: str,\n",
    "    ) -> str:\n",
    "        \"\"\"Use the tool.\"\"\"\n",
    "        from tavily import TavilyClient\n",
    "\n",
    "        client = TavilyClient()\n",
    "        results = client.search(query=query)\n",
    "        return f\"Search results for: {query}\\n\\n\\n{results}\\n\""
   ]
  },
  {
   "cell_type": "code",
   "execution_count": 28,
   "metadata": {},
   "outputs": [],
   "source": [
    "tools = [greet_user_tool, reverse_string, concatenate_strings_tool, SimpleSearchTool()]"
   ]
  },
  {
   "cell_type": "code",
   "execution_count": 29,
   "metadata": {},
   "outputs": [
    {
     "name": "stderr",
     "output_type": "stream",
     "text": [
      "d:\\LEARN\\LangChain Basis\\.venv\\lib\\site-packages\\langchain\\hub.py:86: DeprecationWarning: The `langchainhub sdk` is deprecated.\n",
      "Please use the `langsmith sdk` instead:\n",
      "  pip install langsmith\n",
      "Use the `pull_prompt` method.\n",
      "  res_dict = client.pull_repo(owner_repo_commit)\n",
      "Key 'title' is not supported in schema, ignoring\n",
      "Key 'title' is not supported in schema, ignoring\n",
      "Key 'title' is not supported in schema, ignoring\n",
      "Key 'title' is not supported in schema, ignoring\n",
      "Key 'title' is not supported in schema, ignoring\n",
      "Key 'title' is not supported in schema, ignoring\n",
      "Key 'title' is not supported in schema, ignoring\n"
     ]
    }
   ],
   "source": [
    "# Initialize a ChatOpenAI model\n",
    "llm = ChatGoogleGenerativeAI(model=\"gemini-1.5-flash\", temperature=0)\n",
    "\n",
    "# Pull the prompt template from the hub\n",
    "prompt = hub.pull(\"hwchase17/openai-tools-agent\")\n",
    "\n",
    "# Create the ReAct agent using the create_tool_calling_agent function\n",
    "agent = create_tool_calling_agent(\n",
    "    llm=llm,  # Language model to use\n",
    "    tools=tools,  # List of tools available to the agent\n",
    "    prompt=prompt,  # Prompt template to guide the agent's responses\n",
    ")\n",
    "\n",
    "# Create the agent executor\n",
    "agent_executor = AgentExecutor.from_agent_and_tools(\n",
    "    agent=agent,  # The agent to execute\n",
    "    tools=tools,  # List of tools available to the agent\n",
    "    verbose=True,  # Enable verbose logging\n",
    "    handle_parsing_errors=True,  # Handle parsing errors gracefully\n",
    ")"
   ]
  },
  {
   "cell_type": "code",
   "execution_count": 19,
   "metadata": {},
   "outputs": [
    {
     "name": "stdout",
     "output_type": "stream",
     "text": [
      "\n",
      "\n",
      "\u001b[1m> Entering new AgentExecutor chain...\u001b[0m\n",
      "\u001b[32;1m\u001b[1;3m\n",
      "Invoking: `GreetUser` with `Alice`\n",
      "\n",
      "\n",
      "\u001b[0m\u001b[36;1m\u001b[1;3mHello, Alice!\u001b[0m\u001b[32;1m\u001b[1;3mHello, Alice! \n",
      "\u001b[0m\n",
      "\n",
      "\u001b[1m> Finished chain.\u001b[0m\n",
      "Response for 'Greet Alice': {'input': 'Greet Alice', 'output': 'Hello, Alice! \\n'}\n",
      "\n",
      "\n",
      "\u001b[1m> Entering new AgentExecutor chain...\u001b[0m\n",
      "\u001b[32;1m\u001b[1;3m\n",
      "Invoking: `reverse_string_tool` with `{'text': 'hello'}`\n",
      "\n",
      "\n",
      "\u001b[0m\u001b[38;5;200m\u001b[1;3molleh\u001b[0m\u001b[32;1m\u001b[1;3mThe reversed string is olleh. \n",
      "\u001b[0m\n",
      "\n",
      "\u001b[1m> Finished chain.\u001b[0m\n",
      "Response for 'Reverse the string hello': {'input': \"Reverse the string 'hello'\", 'output': 'The reversed string is olleh. \\n'}\n",
      "\n",
      "\n",
      "\u001b[1m> Entering new AgentExecutor chain...\u001b[0m\n",
      "\u001b[32;1m\u001b[1;3m\n",
      "Invoking: `ConcatenateStrings` with `{'a': 'hello', 'b': 'world'}`\n",
      "\n",
      "\n",
      "\u001b[0m\u001b[33;1m\u001b[1;3mhelloworld\u001b[0m\u001b[32;1m\u001b[1;3mhelloworld \n",
      "\u001b[0m\n",
      "\n",
      "\u001b[1m> Finished chain.\u001b[0m\n",
      "Response for 'Concatenate hello and world': {'input': \"Concatenate 'hello' and 'world'\", 'output': 'helloworld \\n'}\n"
     ]
    }
   ],
   "source": [
    "# Test the agent with sample queries\n",
    "response = agent_executor.invoke({\"input\": \"Greet Alice\"})\n",
    "print(\"Response for 'Greet Alice':\", response)\n",
    "\n",
    "response = agent_executor.invoke({\"input\": \"Reverse the string 'hello'\"})\n",
    "print(\"Response for 'Reverse the string hello':\", response)\n",
    "\n",
    "response = agent_executor.invoke({\"input\": \"Concatenate 'hello' and 'world'\"})\n",
    "print(\"Response for 'Concatenate hello and world':\", response)"
   ]
  },
  {
   "cell_type": "code",
   "execution_count": 30,
   "metadata": {},
   "outputs": [
    {
     "name": "stdout",
     "output_type": "stream",
     "text": [
      "\n",
      "\n",
      "\u001b[1m> Entering new AgentExecutor chain...\u001b[0m\n",
      "\u001b[32;1m\u001b[1;3m\n",
      "Invoking: `simple_search` with `{'query': 'Apple Intelligence'}`\n",
      "\n",
      "\n",
      "\u001b[0m\u001b[36;1m\u001b[1;3mSearch results for: Apple Intelligence\n",
      "\n",
      "\n",
      "{'query': 'Apple Intelligence', 'follow_up_questions': None, 'answer': None, 'images': [], 'results': [{'title': 'Apple Intelligence - Wikipedia', 'url': 'https://en.wikipedia.org/wiki/Apple_Intelligence', 'content': 'Apple Intelligence is an artificial intelligence platform developed by Apple Inc. for iOS, iPadOS, and macOS devices. It features writing tools, image generation, Siri overhaul, ChatGPT integration, and more.', 'score': 0.99978846, 'raw_content': None}, {'title': 'Introducing Apple Intelligence for iPhone, iPad, and Mac', 'url': 'https://www.apple.com/newsroom/2024/06/introducing-apple-intelligence-for-iphone-ipad-and-mac/', 'content': 'Apple Intelligence is a personal intelligence system that combines generative models with personal context to deliver useful and relevant intelligence. It powers new features for writing, communication, image creation, and more across iOS 18, iPadOS 18, and macOS Sequoia.', 'score': 0.9997565, 'raw_content': None}, {'title': 'What is Apple Intelligence, when is it coming and who will get it?', 'url': 'https://techcrunch.com/2024/07/18/what-is-apple-intelligence-when-is-coming-and-who-will-get-it/', 'content': 'Apple Intelligence is a new feature that integrates generative AI into existing Apple apps, such as Mail, Messages, Pages and Siri. It is powered by a small-model system that runs on-device or on remote servers, and will be available in fall 2024 for some Pro devices.', 'score': 0.99974287, 'raw_content': None}, {'title': \"'Apple Intelligence' Personal AI Unveiled for iPhone, iPad, and Mac\", 'url': 'https://www.macrumors.com/2024/06/10/apple-intelligence-generative-personal-ai-unveiled-for-iphone-ipad-and-mac/', 'content': 'Apple Intelligence is a new feature that uses generative models and personal context to enhance user experiences across Apple devices. It can create language and images, take action across apps, and draw from private and secure data to simplify and accelerate everyday tasks.', 'score': 0.9997305, 'raw_content': None}, {'title': 'Apple Intelligence Preview - Apple', 'url': 'https://www.apple.com/apple-intelligence/', 'content': 'Apple Intelligence is a new feature that uses on-device processing to help you write, express yourself, and get things done effortlessly. It powers intelligent Writing Tools, Image Playground, Siri, and more, with a brand-new standard for privacy in AI.', 'score': 0.999697, 'raw_content': None}], 'response_time': 2.13}\n",
      "\u001b[0m\u001b[32;1m\u001b[1;3mApple Intelligence is a new feature that integrates generative AI into existing Apple apps, such as Mail, Messages, Pages and Siri. It is powered by a small-model system that runs on-device or on remote servers, and will be available in fall 2024 for some Pro devices. \n",
      "\u001b[0m\n",
      "\n",
      "\u001b[1m> Finished chain.\u001b[0m\n",
      "Response for 'Search for Apple Intelligence': {'input': 'Search for Apple Intelligence', 'output': 'Apple Intelligence is a new feature that integrates generative AI into existing Apple apps, such as Mail, Messages, Pages and Siri. It is powered by a small-model system that runs on-device or on remote servers, and will be available in fall 2024 for some Pro devices. \\n'}\n"
     ]
    }
   ],
   "source": [
    "response = agent_executor.invoke({\"input\": \"Search for Apple Intelligence\"})\n",
    "print(\"Response for 'Search for Apple Intelligence':\", response)"
   ]
  },
  {
   "cell_type": "code",
   "execution_count": null,
   "metadata": {},
   "outputs": [],
   "source": []
  }
 ],
 "metadata": {
  "kernelspec": {
   "display_name": ".venv",
   "language": "python",
   "name": "python3"
  },
  "language_info": {
   "codemirror_mode": {
    "name": "ipython",
    "version": 3
   },
   "file_extension": ".py",
   "mimetype": "text/x-python",
   "name": "python",
   "nbconvert_exporter": "python",
   "pygments_lexer": "ipython3",
   "version": "3.10.0"
  }
 },
 "nbformat": 4,
 "nbformat_minor": 2
}
